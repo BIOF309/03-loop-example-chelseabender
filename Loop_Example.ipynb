{
 "cells": [
  {
   "cell_type": "code",
   "execution_count": 6,
   "metadata": {},
   "outputs": [
    {
     "name": "stdout",
     "output_type": "stream",
     "text": [
      "The Autopure is 9.25 meters long by 3.0 meters wide by 6.75 meters tall.\n",
      "The Centrifuge 1 is 0.75 meters long by 0.75 meters wide by 1.25 meters tall.\n",
      "The Centrifuge 2 is 0.75 meters long by 0.75 meters wide by 1.25 meters tall.\n",
      "The Centrifuge 3 is 0.2 meters long by 0.4 meters wide by 0.3 meters tall.\n",
      "The PCR Hood is 1.25 meters long by 0.9 meters wide by 2.25 meters tall.\n",
      "The Shaker is 0.15 meters long by 0.25 meters wide by 0.1 meters tall.\n",
      "The 4 degree Refrigerator is 1.15 meters long by 1.75 meters wide by 2.75 meters tall.\n",
      "The -20 degree Freezer is 1.5 meters long by 2.0 meters wide by 2.75 meters tall.\n",
      "The -80 degree Freezer is 1.5 meters long by 2.0 meters wide by 2.75 meters tall.\n"
     ]
    }
   ],
   "source": [
    "# List of items in our lab with dimensions(length, width, height)\n",
    "lab_items = [[\"Autopure\", 3.25, 1.0, 2.75],\n",
    "    [\"Centrifuge 1\", .75, .75, 1.25],\n",
    "    [\"Centrifuge 2\", .75, .75, 1.25],\n",
    "    [\"Centrifuge 3\", .2, .4, .3],\n",
    "    [\"PCR Hood\", 1.25, .9, 2.25],\n",
    "    [\"Shaker\", .15, .25, .10],\n",
    "    [\"4 degree Refrigerator\", 1.15, 1.75, 2.75],\n",
    "    [\"-20 degree Freezer\", 1.5, 2.0, 2.75],\n",
    "    [\"-80 degree Freezer\", 1.5, 2.0, 2.75]]\n",
    "\n",
    "#Build a for loop to describe the dimensions of the items\n",
    "for x in lab_items : \n",
    "    print(\"The \" + x[0] + \" is \" + str(x[1]) + \" meters long by \" + str(x[2]) + \" meters wide by \" + str(x[3]) + \" meters tall.\")"
   ]
  },
  {
   "cell_type": "code",
   "execution_count": null,
   "metadata": {
    "collapsed": true
   },
   "outputs": [],
   "source": []
  }
 ],
 "metadata": {
  "kernelspec": {
   "display_name": "Python 3",
   "language": "python",
   "name": "python3"
  },
  "language_info": {
   "codemirror_mode": {
    "name": "ipython",
    "version": 3
   },
   "file_extension": ".py",
   "mimetype": "text/x-python",
   "name": "python",
   "nbconvert_exporter": "python",
   "pygments_lexer": "ipython3",
   "version": "3.6.1"
  }
 },
 "nbformat": 4,
 "nbformat_minor": 2
}
